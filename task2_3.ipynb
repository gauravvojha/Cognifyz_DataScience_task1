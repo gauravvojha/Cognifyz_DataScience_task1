{
  "nbformat": 4,
  "nbformat_minor": 0,
  "metadata": {
    "colab": {
      "provenance": [],
      "authorship_tag": "ABX9TyM4/myYULEzJUm3cTMaSw+m",
      "include_colab_link": true
    },
    "kernelspec": {
      "name": "python3",
      "display_name": "Python 3"
    },
    "language_info": {
      "name": "python"
    }
  },
  "cells": [
    {
      "cell_type": "markdown",
      "metadata": {
        "id": "view-in-github",
        "colab_type": "text"
      },
      "source": [
        "<a href=\"https://colab.research.google.com/github/gauravvojha/Cognifyz_DataScience_tasks/blob/main/task2_3.ipynb\" target=\"_parent\"><img src=\"https://colab.research.google.com/assets/colab-badge.svg\" alt=\"Open In Colab\"/></a>"
      ]
    },
    {
      "cell_type": "code",
      "execution_count": 8,
      "metadata": {
        "id": "q6I1plKgOVBe"
      },
      "outputs": [],
      "source": [
        "import pandas as pd"
      ]
    },
    {
      "cell_type": "markdown",
      "source": [
        "# Load the dataset"
      ],
      "metadata": {
        "id": "hnFwUy_KOXpB"
      }
    },
    {
      "cell_type": "code",
      "source": [
        "df = pd.read_csv('/content/sample_data/restaurant_data.csv')"
      ],
      "metadata": {
        "id": "Jwah0b67OaHZ"
      },
      "execution_count": 11,
      "outputs": []
    },
    {
      "cell_type": "markdown",
      "source": [
        "# Display the first few rows of the dataframe to understand its structure"
      ],
      "metadata": {
        "id": "q2Ke00N3PbFy"
      }
    },
    {
      "cell_type": "code",
      "source": [
        "print(df.head())"
      ],
      "metadata": {
        "colab": {
          "base_uri": "https://localhost:8080/"
        },
        "id": "HYWpj5sWPdyw",
        "outputId": "5251d8b2-372c-4e9c-f7e0-142b30364cea"
      },
      "execution_count": 12,
      "outputs": [
        {
          "output_type": "stream",
          "name": "stdout",
          "text": [
            "   Restaurant ID         Restaurant Name  Country Code              City  \\\n",
            "0        6317637        Le Petit Souffle           162       Makati City   \n",
            "1        6304287        Izakaya Kikufuji           162       Makati City   \n",
            "2        6300002  Heat - Edsa Shangri-La           162  Mandaluyong City   \n",
            "3        6318506                    Ooma           162  Mandaluyong City   \n",
            "4        6314302             Sambo Kojin           162  Mandaluyong City   \n",
            "\n",
            "                                             Address  \\\n",
            "0  Third Floor, Century City Mall, Kalayaan Avenu...   \n",
            "1  Little Tokyo, 2277 Chino Roces Avenue, Legaspi...   \n",
            "2  Edsa Shangri-La, 1 Garden Way, Ortigas, Mandal...   \n",
            "3  Third Floor, Mega Fashion Hall, SM Megamall, O...   \n",
            "4  Third Floor, Mega Atrium, SM Megamall, Ortigas...   \n",
            "\n",
            "                                     Locality  \\\n",
            "0   Century City Mall, Poblacion, Makati City   \n",
            "1  Little Tokyo, Legaspi Village, Makati City   \n",
            "2  Edsa Shangri-La, Ortigas, Mandaluyong City   \n",
            "3      SM Megamall, Ortigas, Mandaluyong City   \n",
            "4      SM Megamall, Ortigas, Mandaluyong City   \n",
            "\n",
            "                                    Locality Verbose   Longitude   Latitude  \\\n",
            "0  Century City Mall, Poblacion, Makati City, Mak...  121.027535  14.565443   \n",
            "1  Little Tokyo, Legaspi Village, Makati City, Ma...  121.014101  14.553708   \n",
            "2  Edsa Shangri-La, Ortigas, Mandaluyong City, Ma...  121.056831  14.581404   \n",
            "3  SM Megamall, Ortigas, Mandaluyong City, Mandal...  121.056475  14.585318   \n",
            "4  SM Megamall, Ortigas, Mandaluyong City, Mandal...  121.057508  14.584450   \n",
            "\n",
            "                           Cuisines  ...          Currency Has Table booking  \\\n",
            "0        French, Japanese, Desserts  ...  Botswana Pula(P)               Yes   \n",
            "1                          Japanese  ...  Botswana Pula(P)               Yes   \n",
            "2  Seafood, Asian, Filipino, Indian  ...  Botswana Pula(P)               Yes   \n",
            "3                   Japanese, Sushi  ...  Botswana Pula(P)                No   \n",
            "4                  Japanese, Korean  ...  Botswana Pula(P)               Yes   \n",
            "\n",
            "  Has Online delivery Is delivering now Switch to order menu Price range  \\\n",
            "0                  No                No                   No           3   \n",
            "1                  No                No                   No           3   \n",
            "2                  No                No                   No           4   \n",
            "3                  No                No                   No           4   \n",
            "4                  No                No                   No           4   \n",
            "\n",
            "   Aggregate rating  Rating color Rating text Votes  \n",
            "0               4.8    Dark Green   Excellent   314  \n",
            "1               4.5    Dark Green   Excellent   591  \n",
            "2               4.4         Green   Very Good   270  \n",
            "3               4.9    Dark Green   Excellent   365  \n",
            "4               4.8    Dark Green   Excellent   229  \n",
            "\n",
            "[5 rows x 21 columns]\n"
          ]
        }
      ]
    },
    {
      "cell_type": "markdown",
      "source": [
        "# Task 1: Extract additional features"
      ],
      "metadata": {
        "id": "MHwHMYwpPlkz"
      }
    },
    {
      "cell_type": "code",
      "source": [
        "df['name_length'] = df['Restaurant Name'].apply(len)"
      ],
      "metadata": {
        "id": "3ok-tzAaPhQC"
      },
      "execution_count": 15,
      "outputs": []
    },
    {
      "cell_type": "markdown",
      "source": [
        "# Length of the address"
      ],
      "metadata": {
        "id": "2R9G80XOPwLh"
      }
    },
    {
      "cell_type": "code",
      "source": [
        "df['address_length'] = df['Address'].apply(len)"
      ],
      "metadata": {
        "id": "ZRbKI6gOPx2R"
      },
      "execution_count": 16,
      "outputs": []
    },
    {
      "cell_type": "code",
      "source": [
        "print(\"First few rows with new length features:\")\n",
        "print(df[['Restaurant Name', 'name_length', 'Address', 'address_length']].head())"
      ],
      "metadata": {
        "colab": {
          "base_uri": "https://localhost:8080/"
        },
        "id": "9R8HKuPvP4eh",
        "outputId": "858f9499-c3d1-4da4-ec13-e46e6fae45d9"
      },
      "execution_count": 18,
      "outputs": [
        {
          "output_type": "stream",
          "name": "stdout",
          "text": [
            "First few rows with new length features:\n",
            "          Restaurant Name  name_length  \\\n",
            "0        Le Petit Souffle           16   \n",
            "1        Izakaya Kikufuji           16   \n",
            "2  Heat - Edsa Shangri-La           22   \n",
            "3                    Ooma            4   \n",
            "4             Sambo Kojin           11   \n",
            "\n",
            "                                             Address  address_length  \n",
            "0  Third Floor, Century City Mall, Kalayaan Avenu...              71  \n",
            "1  Little Tokyo, 2277 Chino Roces Avenue, Legaspi...              67  \n",
            "2  Edsa Shangri-La, 1 Garden Way, Ortigas, Mandal...              56  \n",
            "3  Third Floor, Mega Fashion Hall, SM Megamall, O...              70  \n",
            "4  Third Floor, Mega Atrium, SM Megamall, Ortigas...              64  \n"
          ]
        }
      ]
    },
    {
      "cell_type": "markdown",
      "source": [
        "# Task 2: Create new features by encoding categorical variables"
      ],
      "metadata": {
        "id": "P-efP9w1QB0A"
      }
    },
    {
      "cell_type": "code",
      "source": [
        "df['has_table_booking'] = df['Has Table booking'].apply(lambda x: 1 if x == 'Yes' else 0)"
      ],
      "metadata": {
        "id": "PxneJEGMQC0B"
      },
      "execution_count": 20,
      "outputs": []
    },
    {
      "cell_type": "markdown",
      "source": [
        "# \"Has Online Delivery\""
      ],
      "metadata": {
        "id": "b8lFZws-P3Pp"
      }
    },
    {
      "cell_type": "code",
      "source": [
        "df['has_online_delivery'] = df['Has Online delivery'].apply(lambda x: 1 if x == 'Yes' else 0)"
      ],
      "metadata": {
        "id": "SVrSzdM8QOY6"
      },
      "execution_count": 21,
      "outputs": []
    },
    {
      "cell_type": "code",
      "source": [
        "print(\"First few rows with new binary features:\")\n",
        "print(df[['Has Table booking', 'has_table_booking', 'Has Online delivery', 'has_online_delivery']].head())"
      ],
      "metadata": {
        "colab": {
          "base_uri": "https://localhost:8080/"
        },
        "id": "8qZZKeyBQUyq",
        "outputId": "6cee8cbb-b930-4d56-beee-0c8e8470e8ac"
      },
      "execution_count": 23,
      "outputs": [
        {
          "output_type": "stream",
          "name": "stdout",
          "text": [
            "First few rows with new binary features:\n",
            "  Has Table booking  has_table_booking Has Online delivery  \\\n",
            "0               Yes                  1                  No   \n",
            "1               Yes                  1                  No   \n",
            "2               Yes                  1                  No   \n",
            "3                No                  0                  No   \n",
            "4               Yes                  1                  No   \n",
            "\n",
            "   has_online_delivery  \n",
            "0                    0  \n",
            "1                    0  \n",
            "2                    0  \n",
            "3                    0  \n",
            "4                    0  \n"
          ]
        }
      ]
    },
    {
      "cell_type": "markdown",
      "source": [
        "# Save the dataframe with new features to a new CSV file"
      ],
      "metadata": {
        "id": "r__d6ApfQehQ"
      }
    },
    {
      "cell_type": "code",
      "source": [
        "df.to_csv('restaurant_data_with_features.csv', index=False)"
      ],
      "metadata": {
        "id": "UEy5I94pQgJA"
      },
      "execution_count": 24,
      "outputs": []
    }
  ]
}