{
  "nbformat": 4,
  "nbformat_minor": 0,
  "metadata": {
    "colab": {
      "provenance": [],
      "authorship_tag": "ABX9TyOjQ9UTVHefbWwiZejuW294",
      "include_colab_link": true
    },
    "kernelspec": {
      "name": "python3",
      "display_name": "Python 3"
    },
    "language_info": {
      "name": "python"
    }
  },
  "cells": [
    {
      "cell_type": "markdown",
      "metadata": {
        "id": "view-in-github",
        "colab_type": "text"
      },
      "source": [
        "<a href=\"https://colab.research.google.com/github/gauravvojha/Cognifyz_DataScience_tasks/blob/main/task1_1.ipynb\" target=\"_parent\"><img src=\"https://colab.research.google.com/assets/colab-badge.svg\" alt=\"Open In Colab\"/></a>"
      ]
    },
    {
      "cell_type": "markdown",
      "source": [
        "# Step 1: Load the dataset and explore it"
      ],
      "metadata": {
        "id": "i8AgWpM1Q2aa"
      }
    },
    {
      "cell_type": "code",
      "source": [
        "import pandas as pd"
      ],
      "metadata": {
        "id": "Sjy85PHjQ3Ci"
      },
      "execution_count": 2,
      "outputs": []
    },
    {
      "cell_type": "markdown",
      "source": [
        "# Load the dataset"
      ],
      "metadata": {
        "id": "dKzZTphGQ4kS"
      }
    },
    {
      "cell_type": "code",
      "source": [
        "df = pd.read_csv('/content/restaurant_data.csv')"
      ],
      "metadata": {
        "id": "MQpF67qeQ5fC"
      },
      "execution_count": 3,
      "outputs": []
    },
    {
      "cell_type": "markdown",
      "source": [
        "# Display the first few rows of the dataset"
      ],
      "metadata": {
        "id": "7W_ar_4HRB0N"
      }
    },
    {
      "cell_type": "code",
      "source": [
        "print(\"First few rows of the dataset:\")\n",
        "print(df.head())"
      ],
      "metadata": {
        "colab": {
          "base_uri": "https://localhost:8080/"
        },
        "id": "jw0oWwyXRC4C",
        "outputId": "530d3914-0c22-4f06-fb60-9fbe20ec39b9"
      },
      "execution_count": 4,
      "outputs": [
        {
          "output_type": "stream",
          "name": "stdout",
          "text": [
            "First few rows of the dataset:\n",
            "   Restaurant ID         Restaurant Name  Country Code              City  \\\n",
            "0        6317637        Le Petit Souffle           162       Makati City   \n",
            "1        6304287        Izakaya Kikufuji           162       Makati City   \n",
            "2        6300002  Heat - Edsa Shangri-La           162  Mandaluyong City   \n",
            "3        6318506                    Ooma           162  Mandaluyong City   \n",
            "4        6314302             Sambo Kojin           162  Mandaluyong City   \n",
            "\n",
            "                                             Address  \\\n",
            "0  Third Floor, Century City Mall, Kalayaan Avenu...   \n",
            "1  Little Tokyo, 2277 Chino Roces Avenue, Legaspi...   \n",
            "2  Edsa Shangri-La, 1 Garden Way, Ortigas, Mandal...   \n",
            "3  Third Floor, Mega Fashion Hall, SM Megamall, O...   \n",
            "4  Third Floor, Mega Atrium, SM Megamall, Ortigas...   \n",
            "\n",
            "                                     Locality  \\\n",
            "0   Century City Mall, Poblacion, Makati City   \n",
            "1  Little Tokyo, Legaspi Village, Makati City   \n",
            "2  Edsa Shangri-La, Ortigas, Mandaluyong City   \n",
            "3      SM Megamall, Ortigas, Mandaluyong City   \n",
            "4      SM Megamall, Ortigas, Mandaluyong City   \n",
            "\n",
            "                                    Locality Verbose   Longitude   Latitude  \\\n",
            "0  Century City Mall, Poblacion, Makati City, Mak...  121.027535  14.565443   \n",
            "1  Little Tokyo, Legaspi Village, Makati City, Ma...  121.014101  14.553708   \n",
            "2  Edsa Shangri-La, Ortigas, Mandaluyong City, Ma...  121.056831  14.581404   \n",
            "3  SM Megamall, Ortigas, Mandaluyong City, Mandal...  121.056475  14.585318   \n",
            "4  SM Megamall, Ortigas, Mandaluyong City, Mandal...  121.057508  14.584450   \n",
            "\n",
            "                           Cuisines  ...          Currency Has Table booking  \\\n",
            "0        French, Japanese, Desserts  ...  Botswana Pula(P)               Yes   \n",
            "1                          Japanese  ...  Botswana Pula(P)               Yes   \n",
            "2  Seafood, Asian, Filipino, Indian  ...  Botswana Pula(P)               Yes   \n",
            "3                   Japanese, Sushi  ...  Botswana Pula(P)                No   \n",
            "4                  Japanese, Korean  ...  Botswana Pula(P)               Yes   \n",
            "\n",
            "  Has Online delivery Is delivering now Switch to order menu Price range  \\\n",
            "0                  No                No                   No         3.0   \n",
            "1                  No                No                   No         3.0   \n",
            "2                  No                No                   No         4.0   \n",
            "3                  No                No                   No         4.0   \n",
            "4                  No                No                   No         4.0   \n",
            "\n",
            "   Aggregate rating  Rating color Rating text  Votes  \n",
            "0               4.8    Dark Green   Excellent  314.0  \n",
            "1               4.5    Dark Green   Excellent  591.0  \n",
            "2               4.4         Green   Very Good  270.0  \n",
            "3               4.9    Dark Green   Excellent  365.0  \n",
            "4               4.8    Dark Green   Excellent  229.0  \n",
            "\n",
            "[5 rows x 21 columns]\n"
          ]
        }
      ]
    },
    {
      "cell_type": "markdown",
      "source": [
        "# Display the number of rows and columns"
      ],
      "metadata": {
        "id": "JyUftH1AREN7"
      }
    },
    {
      "cell_type": "code",
      "source": [
        "print(\"\\nNumber of rows and columns:\")\n",
        "print(df.shape)"
      ],
      "metadata": {
        "colab": {
          "base_uri": "https://localhost:8080/"
        },
        "id": "W_hYxI1lRH_q",
        "outputId": "0af9d20e-2a4f-4879-cc20-8da01e3e2869"
      },
      "execution_count": 5,
      "outputs": [
        {
          "output_type": "stream",
          "name": "stdout",
          "text": [
            "\n",
            "Number of rows and columns:\n",
            "(4411, 21)\n"
          ]
        }
      ]
    },
    {
      "cell_type": "markdown",
      "source": [
        "# Step 2: Check for missing values and handle them"
      ],
      "metadata": {
        "id": "4pechVuARLHF"
      }
    },
    {
      "cell_type": "code",
      "source": [
        "print(\"\\nMissing values in each column:\")\n",
        "print(df.isnull().sum())"
      ],
      "metadata": {
        "colab": {
          "base_uri": "https://localhost:8080/"
        },
        "id": "RcdkAbqTRM6S",
        "outputId": "7ccfd861-3c27-4926-a5fa-d27b5774d6a0"
      },
      "execution_count": 6,
      "outputs": [
        {
          "output_type": "stream",
          "name": "stdout",
          "text": [
            "\n",
            "Missing values in each column:\n",
            "Restaurant ID            0\n",
            "Restaurant Name          0\n",
            "Country Code             0\n",
            "City                     0\n",
            "Address                  0\n",
            "Locality                 0\n",
            "Locality Verbose         0\n",
            "Longitude                0\n",
            "Latitude                 0\n",
            "Cuisines                10\n",
            "Average Cost for two     1\n",
            "Currency                 1\n",
            "Has Table booking        1\n",
            "Has Online delivery      1\n",
            "Is delivering now        1\n",
            "Switch to order menu     1\n",
            "Price range              1\n",
            "Aggregate rating         1\n",
            "Rating color             1\n",
            "Rating text              1\n",
            "Votes                    1\n",
            "dtype: int64\n"
          ]
        }
      ]
    },
    {
      "cell_type": "markdown",
      "source": [
        "# Handling missing values"
      ],
      "metadata": {
        "id": "SvYNnfwMRPsz"
      }
    },
    {
      "cell_type": "code",
      "source": [
        "for column in df.columns:\n",
        "    if df[column].dtype == 'object':\n",
        "        # Fill missing values with the most frequent value\n",
        "        df[column].fillna(df[column].mode()[0], inplace=True)\n",
        "    else:\n",
        "        # Fill missing values with the median value\n",
        "        df[column].fillna(df[column].median(), inplace=True)\n",
        "\n",
        "print(\"\\nMissing values after handling them:\")\n",
        "print(df.isnull().sum())"
      ],
      "metadata": {
        "colab": {
          "base_uri": "https://localhost:8080/"
        },
        "id": "EYtTsrhuRRb1",
        "outputId": "38bf62c3-9111-49b6-fa7e-c42a0f7014f8"
      },
      "execution_count": 7,
      "outputs": [
        {
          "output_type": "stream",
          "name": "stdout",
          "text": [
            "\n",
            "Missing values after handling them:\n",
            "Restaurant ID           0\n",
            "Restaurant Name         0\n",
            "Country Code            0\n",
            "City                    0\n",
            "Address                 0\n",
            "Locality                0\n",
            "Locality Verbose        0\n",
            "Longitude               0\n",
            "Latitude                0\n",
            "Cuisines                0\n",
            "Average Cost for two    0\n",
            "Currency                0\n",
            "Has Table booking       0\n",
            "Has Online delivery     0\n",
            "Is delivering now       0\n",
            "Switch to order menu    0\n",
            "Price range             0\n",
            "Aggregate rating        0\n",
            "Rating color            0\n",
            "Rating text             0\n",
            "Votes                   0\n",
            "dtype: int64\n"
          ]
        }
      ]
    },
    {
      "cell_type": "markdown",
      "source": [
        "# Step 3: Perform data type conversion if necessary"
      ],
      "metadata": {
        "id": "Dir_N8mARUJr"
      }
    },
    {
      "cell_type": "code",
      "source": [
        "print(\"\\nData types before conversion:\")\n",
        "print(df.dtypes)"
      ],
      "metadata": {
        "colab": {
          "base_uri": "https://localhost:8080/"
        },
        "id": "IFeTBwxJRVVS",
        "outputId": "e0e67cea-4a86-424f-83be-b5e58ef7175f"
      },
      "execution_count": 8,
      "outputs": [
        {
          "output_type": "stream",
          "name": "stdout",
          "text": [
            "\n",
            "Data types before conversion:\n",
            "Restaurant ID             int64\n",
            "Restaurant Name          object\n",
            "Country Code              int64\n",
            "City                     object\n",
            "Address                  object\n",
            "Locality                 object\n",
            "Locality Verbose         object\n",
            "Longitude               float64\n",
            "Latitude                float64\n",
            "Cuisines                 object\n",
            "Average Cost for two    float64\n",
            "Currency                 object\n",
            "Has Table booking        object\n",
            "Has Online delivery      object\n",
            "Is delivering now        object\n",
            "Switch to order menu     object\n",
            "Price range             float64\n",
            "Aggregate rating        float64\n",
            "Rating color             object\n",
            "Rating text              object\n",
            "Votes                   float64\n",
            "dtype: object\n"
          ]
        }
      ]
    },
    {
      "cell_type": "markdown",
      "source": [
        "# Convert 'Aggregate rating' to float if it's not already"
      ],
      "metadata": {
        "id": "ofu8A-srRXd6"
      }
    },
    {
      "cell_type": "code",
      "source": [
        "df['Aggregate rating'] = df['Aggregate rating'].astype(float)"
      ],
      "metadata": {
        "id": "T72zwUn8Rddi"
      },
      "execution_count": 9,
      "outputs": []
    },
    {
      "cell_type": "code",
      "source": [
        "print(\"\\nData types after conversion:\")\n",
        "print(df.dtypes)"
      ],
      "metadata": {
        "colab": {
          "base_uri": "https://localhost:8080/"
        },
        "id": "qqEamwSpRi1t",
        "outputId": "68d7be07-659c-4854-af92-222a33ee498f"
      },
      "execution_count": 10,
      "outputs": [
        {
          "output_type": "stream",
          "name": "stdout",
          "text": [
            "\n",
            "Data types after conversion:\n",
            "Restaurant ID             int64\n",
            "Restaurant Name          object\n",
            "Country Code              int64\n",
            "City                     object\n",
            "Address                  object\n",
            "Locality                 object\n",
            "Locality Verbose         object\n",
            "Longitude               float64\n",
            "Latitude                float64\n",
            "Cuisines                 object\n",
            "Average Cost for two    float64\n",
            "Currency                 object\n",
            "Has Table booking        object\n",
            "Has Online delivery      object\n",
            "Is delivering now        object\n",
            "Switch to order menu     object\n",
            "Price range             float64\n",
            "Aggregate rating        float64\n",
            "Rating color             object\n",
            "Rating text              object\n",
            "Votes                   float64\n",
            "dtype: object\n"
          ]
        }
      ]
    },
    {
      "cell_type": "markdown",
      "source": [
        "# Step 4: Analyze the distribution of the target variable (\"Aggregate rating\")"
      ],
      "metadata": {
        "id": "XMKAXjYORkxL"
      }
    },
    {
      "cell_type": "code",
      "source": [
        "import matplotlib.pyplot as plt\n",
        "import seaborn as sns\n"
      ],
      "metadata": {
        "id": "__enY977RlaT"
      },
      "execution_count": 11,
      "outputs": []
    },
    {
      "cell_type": "markdown",
      "source": [
        "# Plot the distribution of the target variable"
      ],
      "metadata": {
        "id": "hnXrB7_-RoG0"
      }
    },
    {
      "cell_type": "code",
      "source": [
        "plt.figure(figsize=(10, 6))\n",
        "sns.histplot(df['Aggregate rating'], bins=20, kde=True)\n",
        "plt.title('Distribution of Aggregate Rating')\n",
        "plt.xlabel('Aggregate Rating')\n",
        "plt.ylabel('Frequency')\n",
        "plt.show()"
      ],
      "metadata": {
        "colab": {
          "base_uri": "https://localhost:8080/",
          "height": 564
        },
        "id": "ROanw7jeRpJS",
        "outputId": "23089039-4d88-4fec-fe71-464cc8b69342"
      },
      "execution_count": 12,
      "outputs": [
        {
          "output_type": "display_data",
          "data": {
            "text/plain": [
              "<Figure size 1000x600 with 1 Axes>"
            ],
            "image/png": "[encoded data removed]"
          },
          "metadata": {}
        }
      ]
    },
    {
      "cell_type": "markdown",
      "source": [
        "# Identify class imbalances"
      ],
      "metadata": {
        "id": "gcpSsrYURtF7"
      }
    },
    {
      "cell_type": "code",
      "source": [
        "rating_counts = df['Aggregate rating'].value_counts().sort_index()\n",
        "print(\"\\nValue counts of 'Aggregate rating':\")\n",
        "print(rating_counts)"
      ],
      "metadata": {
        "colab": {
          "base_uri": "https://localhost:8080/"
        },
        "id": "iu_2nWhdRuMW",
        "outputId": "bd49e779-db80-481b-adcf-97ab48c5f6f1"
      },
      "execution_count": 13,
      "outputs": [
        {
          "output_type": "stream",
          "name": "stdout",
          "text": [
            "\n",
            "Value counts of 'Aggregate rating':\n",
            "Aggregate rating\n",
            "0.0    706\n",
            "1.8      1\n",
            "1.9      1\n",
            "2.0      1\n",
            "2.1      4\n",
            "2.2     13\n",
            "2.3     14\n",
            "2.4     39\n",
            "2.5     41\n",
            "2.6     68\n",
            "2.7     93\n",
            "2.8    133\n",
            "2.9    142\n",
            "3.0    190\n",
            "3.1    210\n",
            "3.2    239\n",
            "3.3    217\n",
            "3.4    242\n",
            "3.5    233\n",
            "3.6    235\n",
            "3.7    237\n",
            "3.8    232\n",
            "3.9    215\n",
            "4.0    165\n",
            "4.1    179\n",
            "4.2    140\n",
            "4.3    121\n",
            "4.4     95\n",
            "4.5     62\n",
            "4.6     55\n",
            "4.7     27\n",
            "4.8     19\n",
            "4.9     42\n",
            "Name: count, dtype: int64\n"
          ]
        }
      ]
    },
    {
      "cell_type": "markdown",
      "source": [
        "# Plot the value counts"
      ],
      "metadata": {
        "id": "dsVQLBHIRv4T"
      }
    },
    {
      "cell_type": "code",
      "source": [
        "plt.figure(figsize=(10, 6))\n",
        "sns.barplot(x=rating_counts.index, y=rating_counts.values)\n",
        "plt.title('Aggregate Rating Counts')\n",
        "plt.xlabel('Aggregate Rating')\n",
        "plt.ylabel('Counts')\n",
        "plt.xticks(rotation=90)\n",
        "plt.show()"
      ],
      "metadata": {
        "colab": {
          "base_uri": "https://localhost:8080/",
          "height": 572
        },
        "id": "V9jzN-OjRxrG",
        "outputId": "a67ef81b-52e0-4a95-c605-f9ccd8881e23"
      },
      "execution_count": 14,
      "outputs": [
        {
          "output_type": "display_data",
          "data": {
            "text/plain": [
              "<Figure size 1000x600 with 1 Axes>"
            ],
            "image/png": "[encoded data removed]"
          },
          "metadata": {}
        }
      ]
    }
  ]
}