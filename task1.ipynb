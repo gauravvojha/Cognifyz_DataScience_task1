{
  "nbformat": 4,
  "nbformat_minor": 0,
  "metadata": {
    "colab": {
      "provenance": [],
      "authorship_tag": "ABX9TyOLZzlD5Td+0TV8TjdxHBu0",
      "include_colab_link": true
    },
    "kernelspec": {
      "name": "python3",
      "display_name": "Python 3"
    },
    "language_info": {
      "name": "python"
    }
  },
  "cells": [
    {
      "cell_type": "markdown",
      "metadata": {
        "id": "view-in-github",
        "colab_type": "text"
      },
      "source": [
        "<a href=\"https://colab.research.google.com/github/gauravvojha/Cognifyz_DataScience_task1/blob/main/task1.ipynb\" target=\"_parent\"><img src=\"https://colab.research.google.com/assets/colab-badge.svg\" alt=\"Open In Colab\"/></a>"
      ]
    },
    {
      "cell_type": "markdown",
      "source": [
        "# Import necessary libraries"
      ],
      "metadata": {
        "id": "mETmL1jcLK9u"
      }
    },
    {
      "cell_type": "code",
      "source": [
        "import pandas as pd\n",
        "import numpy as np\n",
        "from sklearn.model_selection import train_test_split\n",
        "from sklearn.linear_model import LinearRegression\n",
        "from sklearn.tree import DecisionTreeRegressor\n",
        "from sklearn.ensemble import RandomForestRegressor\n",
        "from sklearn.metrics import mean_squared_error, r2_score\n",
        "from sklearn.preprocessing import OneHotEncoder\n",
        "import matplotlib.pyplot as plt\n",
        "import seaborn as sns"
      ],
      "metadata": {
        "id": "CXgya8qaLNJO"
      },
      "execution_count": null,
      "outputs": []
    },
    {
      "cell_type": "markdown",
      "source": [
        "# Load the dataset"
      ],
      "metadata": {
        "id": "-bD8niL6KA4s"
      }
    },
    {
      "cell_type": "code",
      "source": [
        "df = pd.read_csv('/content/restaurant_data.csv')"
      ],
      "metadata": {
        "id": "3vDXWAtsKCmP"
      },
      "execution_count": null,
      "outputs": []
    },
    {
      "cell_type": "markdown",
      "source": [
        "# Explore the dataset"
      ],
      "metadata": {
        "id": "R9od91BwKar3"
      }
    },
    {
      "cell_type": "code",
      "source": [
        "print(df.head())\n",
        "print(df.info())\n",
        "print(df.describe())"
      ],
      "metadata": {
        "id": "zNpzUf65KcdB",
        "colab": {
          "base_uri": "https://localhost:8080/"
        },
        "outputId": "9343ceb5-1090-47d5-eff0-26310f7605c2"
      },
      "execution_count": null,
      "outputs": [
        {
          "output_type": "stream",
          "name": "stdout",
          "text": [
            "   Restaurant ID         Restaurant Name  Country Code              City  \\\n",
            "0        6317637        Le Petit Souffle           162       Makati City   \n",
            "1        6304287        Izakaya Kikufuji           162       Makati City   \n",
            "2        6300002  Heat - Edsa Shangri-La           162  Mandaluyong City   \n",
            "3        6318506                    Ooma           162  Mandaluyong City   \n",
            "4        6314302             Sambo Kojin           162  Mandaluyong City   \n",
            "\n",
            "                                             Address  \\\n",
            "0  Third Floor, Century City Mall, Kalayaan Avenu...   \n",
            "1  Little Tokyo, 2277 Chino Roces Avenue, Legaspi...   \n",
            "2  Edsa Shangri-La, 1 Garden Way, Ortigas, Mandal...   \n",
            "3  Third Floor, Mega Fashion Hall, SM Megamall, O...   \n",
            "4  Third Floor, Mega Atrium, SM Megamall, Ortigas...   \n",
            "\n",
            "                                     Locality  \\\n",
            "0   Century City Mall, Poblacion, Makati City   \n",
            "1  Little Tokyo, Legaspi Village, Makati City   \n",
            "2  Edsa Shangri-La, Ortigas, Mandaluyong City   \n",
            "3      SM Megamall, Ortigas, Mandaluyong City   \n",
            "4      SM Megamall, Ortigas, Mandaluyong City   \n",
            "\n",
            "                                    Locality Verbose   Longitude   Latitude  \\\n",
            "0  Century City Mall, Poblacion, Makati City, Mak...  121.027535  14.565443   \n",
            "1  Little Tokyo, Legaspi Village, Makati City, Ma...  121.014101  14.553708   \n",
            "2  Edsa Shangri-La, Ortigas, Mandaluyong City, Ma...  121.056831  14.581404   \n",
            "3  SM Megamall, Ortigas, Mandaluyong City, Mandal...  121.056475  14.585318   \n",
            "4  SM Megamall, Ortigas, Mandaluyong City, Mandal...  121.057508  14.584450   \n",
            "\n",
            "                           Cuisines  ...          Currency Has Table booking  \\\n",
            "0        French, Japanese, Desserts  ...  Botswana Pula(P)               Yes   \n",
            "1                          Japanese  ...  Botswana Pula(P)               Yes   \n",
            "2  Seafood, Asian, Filipino, Indian  ...  Botswana Pula(P)               Yes   \n",
            "3                   Japanese, Sushi  ...  Botswana Pula(P)                No   \n",
            "4                  Japanese, Korean  ...  Botswana Pula(P)               Yes   \n",
            "\n",
            "  Has Online delivery Is delivering now Switch to order menu Price range  \\\n",
            "0                  No                No                   No         3.0   \n",
            "1                  No                No                   No         3.0   \n",
            "2                  No                No                   No         4.0   \n",
            "3                  No                No                   No         4.0   \n",
            "4                  No                No                   No         4.0   \n",
            "\n",
            "   Aggregate rating  Rating color Rating text  Votes  \n",
            "0               4.8    Dark Green   Excellent  314.0  \n",
            "1               4.5    Dark Green   Excellent  591.0  \n",
            "2               4.4         Green   Very Good  270.0  \n",
            "3               4.9    Dark Green   Excellent  365.0  \n",
            "4               4.8    Dark Green   Excellent  229.0  \n",
            "\n",
            "[5 rows x 21 columns]\n",
            "<class 'pandas.core.frame.DataFrame'>\n",
            "RangeIndex: 4411 entries, 0 to 4410\n",
            "Data columns (total 21 columns):\n",
            " #   Column                Non-Null Count  Dtype  \n",
            "---  ------                --------------  -----  \n",
            " 0   Restaurant ID         4411 non-null   int64  \n",
            " 1   Restaurant Name       4411 non-null   object \n",
            " 2   Country Code          4411 non-null   int64  \n",
            " 3   City                  4411 non-null   object \n",
            " 4   Address               4411 non-null   object \n",
            " 5   Locality              4411 non-null   object \n",
            " 6   Locality Verbose      4411 non-null   object \n",
            " 7   Longitude             4411 non-null   float64\n",
            " 8   Latitude              4411 non-null   float64\n",
            " 9   Cuisines              4401 non-null   object \n",
            " 10  Average Cost for two  4410 non-null   float64\n",
            " 11  Currency              4410 non-null   object \n",
            " 12  Has Table booking     4410 non-null   object \n",
            " 13  Has Online delivery   4410 non-null   object \n",
            " 14  Is delivering now     4410 non-null   object \n",
            " 15  Switch to order menu  4410 non-null   object \n",
            " 16  Price range           4410 non-null   float64\n",
            " 17  Aggregate rating      4410 non-null   float64\n",
            " 18  Rating color          4410 non-null   object \n",
            " 19  Rating text           4410 non-null   object \n",
            " 20  Votes                 4410 non-null   float64\n",
            "dtypes: float64(6), int64(2), object(13)\n",
            "memory usage: 723.8+ KB\n",
            "None\n",
            "       Restaurant ID  Country Code    Longitude     Latitude  \\\n",
            "count   4.411000e+03   4411.000000  4411.000000  4411.000000   \n",
            "mean    9.010723e+06     27.181818    55.460764    25.883016   \n",
            "std     8.745974e+06     69.104814    54.476653    10.474276   \n",
            "min     5.300000e+01      1.000000  -157.948486   -38.634746   \n",
            "25%     3.016990e+05      1.000000    77.030923    28.434707   \n",
            "50%     5.600556e+06      1.000000    77.117637    28.532966   \n",
            "75%     1.831195e+07      1.000000    77.239954    28.634623   \n",
            "max     1.850065e+07    216.000000   153.593331    52.008289   \n",
            "\n",
            "       Average Cost for two  Price range  Aggregate rating         Votes  \n",
            "count           4410.000000  4410.000000       4410.000000   4410.000000  \n",
            "mean             614.488209     1.948753          2.979365    230.257596  \n",
            "std              611.360475     0.931593          1.398345    565.640599  \n",
            "min                0.000000     1.000000          0.000000      0.000000  \n",
            "25%              250.000000     1.000000          2.800000     10.000000  \n",
            "50%              450.000000     2.000000          3.400000     52.000000  \n",
            "75%              750.000000     3.000000          3.900000    201.000000  \n",
            "max             7000.000000     4.000000          4.900000  10934.000000  \n"
          ]
        }
      ]
    },
    {
      "cell_type": "markdown",
      "source": [
        "# Check for missing values"
      ],
      "metadata": {
        "id": "gAGtzQ2fKjvJ"
      }
    },
    {
      "cell_type": "code",
      "source": [
        "print(df.isnull().sum())"
      ],
      "metadata": {
        "colab": {
          "base_uri": "https://localhost:8080/"
        },
        "id": "1nEVa4CdKlqn",
        "outputId": "3d2b6312-9c71-47f3-89d6-f759207184a8"
      },
      "execution_count": null,
      "outputs": [
        {
          "output_type": "stream",
          "name": "stdout",
          "text": [
            "Restaurant ID            0\n",
            "Restaurant Name          0\n",
            "Country Code             0\n",
            "City                     0\n",
            "Address                  0\n",
            "Locality                 0\n",
            "Locality Verbose         0\n",
            "Longitude                0\n",
            "Latitude                 0\n",
            "Cuisines                10\n",
            "Average Cost for two     1\n",
            "Currency                 1\n",
            "Has Table booking        1\n",
            "Has Online delivery      1\n",
            "Is delivering now        1\n",
            "Switch to order menu     1\n",
            "Price range              1\n",
            "Aggregate rating         1\n",
            "Rating color             1\n",
            "Rating text              1\n",
            "Votes                    1\n",
            "dtype: int64\n"
          ]
        }
      ]
    },
    {
      "cell_type": "markdown",
      "source": [
        "# Handle missing values (if any)"
      ],
      "metadata": {
        "id": "cHAS3GSkKn8f"
      }
    },
    {
      "cell_type": "code",
      "source": [
        "df = df.dropna()"
      ],
      "metadata": {
        "id": "ltM6FHncKpSf"
      },
      "execution_count": null,
      "outputs": []
    },
    {
      "cell_type": "markdown",
      "source": [
        "# Identify categorical variables"
      ],
      "metadata": {
        "id": "krMVmSHIUfxl"
      }
    },
    {
      "cell_type": "code",
      "source": [
        "non_numeric_columns = df.select_dtypes(include=['object']).columns\n",
        "print(\"Non-numeric columns:\", non_numeric_columns)"
      ],
      "metadata": {
        "colab": {
          "base_uri": "https://localhost:8080/"
        },
        "id": "aingidjQUhbM",
        "outputId": "2b7b39c0-788c-4fd7-da42-83a78aff80ad"
      },
      "execution_count": null,
      "outputs": [
        {
          "output_type": "stream",
          "name": "stdout",
          "text": [
            "Non-numeric columns: Index(['Restaurant Name', 'City', 'Address', 'Locality', 'Locality Verbose',\n",
            "       'Cuisines', 'Currency', 'Has Table booking', 'Has Online delivery',\n",
            "       'Is delivering now', 'Switch to order menu', 'Rating color',\n",
            "       'Rating text'],\n",
            "      dtype='object')\n"
          ]
        }
      ]
    },
    {
      "cell_type": "markdown",
      "source": [
        "# Convert categorical variables to numeric using one-hot encoding"
      ],
      "metadata": {
        "id": "PK3wihJQUlkB"
      }
    },
    {
      "cell_type": "code",
      "source": [
        "df = pd.get_dummies(df, columns=non_numeric_columns, drop_first=True)"
      ],
      "metadata": {
        "id": "FItqOMgRUnZX"
      },
      "execution_count": null,
      "outputs": []
    },
    {
      "cell_type": "markdown",
      "source": [
        "# Feature selection (example: selecting some columns for the prediction)"
      ],
      "metadata": {
        "id": "8uKbzhFcKrIK"
      }
    },
    {
      "cell_type": "code",
      "source": [
        "features = ['Restaurant ID', 'Restaurant Name', 'Country Code', 'City', 'Address',\n",
        "       'Locality', 'Locality Verbose', 'Longitude', 'Latitude', 'Cuisines',\n",
        "       'Average Cost for two', 'Currency', 'Has Table booking',\n",
        "       'Has Online delivery', 'Is delivering now', 'Switch to order menu',\n",
        "       'Price range', 'Aggregate rating', 'Rating color', 'Rating text',\n",
        "       'Votes']\n",
        "target = ['Aggregate rating']"
      ],
      "metadata": {
        "id": "tYgINV6FKtRn"
      },
      "execution_count": null,
      "outputs": []
    },
    {
      "cell_type": "markdown",
      "source": [
        "# Ensure that the selected features are in the DataFrame"
      ],
      "metadata": {
        "id": "r4Yvta-HUvjZ"
      }
    },
    {
      "cell_type": "code",
      "source": [
        "missing_features = [feature for feature in features if feature not in df.columns]\n",
        "if missing_features:\n",
        "    print(f\"Missing features: {missing_features}\")\n",
        "    # Handle missing features appropriately, for example, by removing them from the list\n",
        "    features = [feature for feature in features if feature in df.columns]\n"
      ],
      "metadata": {
        "colab": {
          "base_uri": "https://localhost:8080/"
        },
        "id": "Jnqn3md2Uwpr",
        "outputId": "e888e920-0a1e-4928-d0e3-90c1f6f7f7f8"
      },
      "execution_count": null,
      "outputs": [
        {
          "output_type": "stream",
          "name": "stdout",
          "text": [
            "Missing features: ['Restaurant Name', 'City', 'Address', 'Locality', 'Locality Verbose', 'Cuisines', 'Currency', 'Has Table booking', 'Has Online delivery', 'Is delivering now', 'Switch to order menu', 'Rating color', 'Rating text']\n"
          ]
        }
      ]
    },
    {
      "cell_type": "markdown",
      "source": [
        "# Ensure the target column is in the DataFrame"
      ],
      "metadata": {
        "id": "8JFawKp0U4df"
      }
    },
    {
      "cell_type": "code",
      "source": [
        "target = 'Aggregate rating'\n",
        "if target not in df.columns:\n",
        "    raise ValueError(f\"Target column '{target}' is missing from the DataFrame.\")"
      ],
      "metadata": {
        "id": "RqhtiTgNU5YR"
      },
      "execution_count": null,
      "outputs": []
    },
    {
      "cell_type": "markdown",
      "source": [
        "# Split the dataset into features (X) and target (y)"
      ],
      "metadata": {
        "id": "kCfUmgD4KvnC"
      }
    },
    {
      "cell_type": "code",
      "source": [
        "# Verify the column names in your DataFrame\n",
        "print(df.columns)"
      ],
      "metadata": {
        "colab": {
          "base_uri": "https://localhost:8080/"
        },
        "id": "aI5SaE1nKxzl",
        "outputId": "ec2e6b41-ce8c-43b6-c7a7-559cae12b580"
      },
      "execution_count": null,
      "outputs": [
        {
          "output_type": "stream",
          "name": "stdout",
          "text": [
            "Index(['Restaurant ID', 'Country Code', 'Longitude', 'Latitude',\n",
            "       'Average Cost for two', 'Price range', 'Aggregate rating', 'Votes',\n",
            "       'Restaurant Name_#InstaFreeze', 'Restaurant Name_'Ohana',\n",
            "       ...\n",
            "       'Rating color_Green', 'Rating color_Orange', 'Rating color_Red',\n",
            "       'Rating color_White', 'Rating color_Yellow', 'Rating text_Excellent',\n",
            "       'Rating text_Good', 'Rating text_Not rated', 'Rating text_Poor',\n",
            "       'Rating text_Very Good'],\n",
            "      dtype='object', length=10641)\n"
          ]
        }
      ]
    },
    {
      "cell_type": "code",
      "source": [
        "features = ['Restaurant ID', 'Country Code', 'Longitude', 'Latitude',\n",
        "           'Average Cost for two', 'Price range', 'Aggregate rating', 'Votes']\n",
        "target = ['Aggregate rating']"
      ],
      "metadata": {
        "id": "MZFDQR04N7zB"
      },
      "execution_count": null,
      "outputs": []
    },
    {
      "cell_type": "code",
      "source": [
        "X = df[features]\n",
        "y = df[target]"
      ],
      "metadata": {
        "id": "iBAGszoZN-jo"
      },
      "execution_count": null,
      "outputs": []
    },
    {
      "cell_type": "markdown",
      "source": [
        "# Ensure all data in X is numeric"
      ],
      "metadata": {
        "id": "fzO6OabjVTnl"
      }
    },
    {
      "cell_type": "code",
      "source": [
        "if any(X.dtypes == 'object'):\n",
        "    print(\"There are still non-numeric columns in the dataset.\")\n",
        "else:\n",
        "    print(\"All features are numeric.\")"
      ],
      "metadata": {
        "colab": {
          "base_uri": "https://localhost:8080/"
        },
        "id": "DOM4CvivVUZ9",
        "outputId": "ad8376bf-e339-4931-9419-06fbc2c75731"
      },
      "execution_count": null,
      "outputs": [
        {
          "output_type": "stream",
          "name": "stdout",
          "text": [
            "All features are numeric.\n"
          ]
        }
      ]
    },
    {
      "cell_type": "markdown",
      "source": [
        "# Check the shapes of X and y before splitting"
      ],
      "metadata": {
        "id": "Q0-07TayWGQ4"
      }
    },
    {
      "cell_type": "code",
      "source": [
        "print(\"Shape of X:\", X.shape)\n",
        "print(\"Shape of y:\", y.shape)"
      ],
      "metadata": {
        "colab": {
          "base_uri": "https://localhost:8080/"
        },
        "id": "LOaairE_WIwX",
        "outputId": "bdaeebde-8505-461e-e4af-046caf86d53d"
      },
      "execution_count": null,
      "outputs": [
        {
          "output_type": "stream",
          "name": "stdout",
          "text": [
            "Shape of X: (4401, 8)\n",
            "Shape of y: (4401, 1)\n"
          ]
        }
      ]
    },
    {
      "cell_type": "markdown",
      "source": [
        "# Align the indices of X and y"
      ],
      "metadata": {
        "id": "swvM2SSlWnlI"
      }
    },
    {
      "cell_type": "code",
      "source": [
        "common_indices = X.index.intersection(y.index)\n",
        "X = X.loc[common_indices]\n",
        "y = y.loc[common_indices]"
      ],
      "metadata": {
        "id": "BJHyPsgGWp2v"
      },
      "execution_count": null,
      "outputs": []
    },
    {
      "cell_type": "markdown",
      "source": [
        "# Split the dataset into training and testing sets"
      ],
      "metadata": {
        "id": "UujaPfrDTeNl"
      }
    },
    {
      "cell_type": "code",
      "source": [
        "X_train, X_test, y_train, y_test = train_test_split(X, y, test_size=0.2, random_state=42)"
      ],
      "metadata": {
        "id": "CAoGM0t6TjWl"
      },
      "execution_count": null,
      "outputs": []
    },
    {
      "cell_type": "markdown",
      "source": [
        "# Ensure there are no non-numeric columns in X"
      ],
      "metadata": {
        "id": "Q67MocMPUjTq"
      }
    },
    {
      "cell_type": "code",
      "source": [
        "for column in X.columns:\n",
        "    if X[column].dtype == 'object':\n",
        "        print(f\"Non-numeric data found in column: {column}\")"
      ],
      "metadata": {
        "id": "g5-3qwKDUkds"
      },
      "execution_count": null,
      "outputs": []
    },
    {
      "cell_type": "markdown",
      "source": [
        "# Identify and handle non-numeric columns"
      ],
      "metadata": {
        "id": "fGRjd0hIDLtg"
      }
    },
    {
      "cell_type": "code",
      "source": [
        "non_numeric_columns = X.select_dtypes(include=['object']).columns\n",
        "print(\"Non-numeric columns:\", non_numeric_columns)"
      ],
      "metadata": {
        "colab": {
          "base_uri": "https://localhost:8080/"
        },
        "id": "UITV8wq5DNxQ",
        "outputId": "fae91ad8-35a5-4362-d0a3-84af990eac24"
      },
      "execution_count": null,
      "outputs": [
        {
          "output_type": "stream",
          "name": "stdout",
          "text": [
            "Non-numeric columns: Index([], dtype='object')\n"
          ]
        }
      ]
    },
    {
      "cell_type": "markdown",
      "source": [
        "# Use\n",
        "\n",
        "OneHotEncoder\n",
        "\n",
        "to handle categorical features"
      ],
      "metadata": {
        "id": "0MACJvEoDSUb"
      }
    },
    {
      "cell_type": "code",
      "source": [
        "encoder = OneHotEncoder(handle_unknown='ignore', sparse_output=False)\n",
        "X_encoded = pd.DataFrame(encoder.fit_transform(X[non_numeric_columns]))\n",
        "X_encoded.columns = encoder.get_feature_names_out(non_numeric_columns)"
      ],
      "metadata": {
        "id": "Zt95MEYfDUJM"
      },
      "execution_count": null,
      "outputs": []
    },
    {
      "cell_type": "markdown",
      "source": [
        "# Drop original categorical columns and concatenate encoded features"
      ],
      "metadata": {
        "id": "-AfP0Ac3Dkjc"
      }
    },
    {
      "cell_type": "code",
      "source": [
        "X = X.drop(non_numeric_columns, axis=1)\n",
        "X = pd.concat([X, X_encoded], axis=1)"
      ],
      "metadata": {
        "id": "oReoaIOSDnL1"
      },
      "execution_count": null,
      "outputs": []
    },
    {
      "cell_type": "markdown",
      "source": [
        "# Initialize the models"
      ],
      "metadata": {
        "id": "kq5G9aHATmve"
      }
    },
    {
      "cell_type": "code",
      "source": [
        "models = {\n",
        "    'Linear Regression': LinearRegression(),\n",
        "    'Decision Tree': DecisionTreeRegressor(random_state=42),\n",
        "    'Random Forest': RandomForestRegressor(random_state=42)\n",
        "}"
      ],
      "metadata": {
        "id": "drgLcI8wTo-L"
      },
      "execution_count": null,
      "outputs": []
    },
    {
      "cell_type": "markdown",
      "source": [
        "# Verify the shapes of your feature matrix and target variable"
      ],
      "metadata": {
        "id": "yFN21GQ6OORQ"
      }
    },
    {
      "cell_type": "code",
      "source": [
        "print(X.shape)\n",
        "print(y.shape)"
      ],
      "metadata": {
        "colab": {
          "base_uri": "https://localhost:8080/"
        },
        "id": "zEaqSlcgOQSy",
        "outputId": "06b4c888-7c80-4965-8df2-ae8780bf4c3e"
      },
      "execution_count": null,
      "outputs": [
        {
          "output_type": "stream",
          "name": "stdout",
          "text": [
            "(4410, 8)\n",
            "(4401, 1)\n"
          ]
        }
      ]
    },
    {
      "cell_type": "markdown",
      "source": [
        "# Train the models and evaluate their performance"
      ],
      "metadata": {
        "id": "WyacJn9ZTsiO"
      }
    },
    {
      "cell_type": "code",
      "source": [
        "results = {}\n",
        "for model_name, model in models.items():\n",
        "    model.fit(X_train, y_train)\n",
        "    y_pred = model.predict(X_test)\n",
        "    mse = mean_squared_error(y_test, y_pred)\n",
        "    r2 = r2_score(y_test, y_pred)\n",
        "    results[model_name] = {'MSE': mse, 'R2': r2}\n",
        "    print(f\"{model_name} - MSE: {mse:.4f}, R2: {r2:.4f}\")"
      ],
      "metadata": {
        "colab": {
          "base_uri": "https://localhost:8080/"
        },
        "id": "NQpHM8h8UcDT",
        "outputId": "37a50506-6bef-4ca2-b4af-0bf20b7d770d"
      },
      "execution_count": null,
      "outputs": [
        {
          "output_type": "stream",
          "name": "stdout",
          "text": [
            "Linear Regression - MSE: 0.0000, R2: 1.0000\n",
            "Decision Tree - MSE: 0.0000, R2: 1.0000\n"
          ]
        },
        {
          "output_type": "stream",
          "name": "stderr",
          "text": [
            "<ipython-input-145-ad057e7aa874>:3: DataConversionWarning: A column-vector y was passed when a 1d array was expected. Please change the shape of y to (n_samples,), for example using ravel().\n",
            "  model.fit(X_train, y_train)\n"
          ]
        },
        {
          "output_type": "stream",
          "name": "stdout",
          "text": [
            "Random Forest - MSE: 0.0000, R2: 1.0000\n"
          ]
        }
      ]
    },
    {
      "cell_type": "markdown",
      "source": [
        "# Compare the models' performance"
      ],
      "metadata": {
        "id": "CbAQzqcwXT1f"
      }
    },
    {
      "cell_type": "code",
      "source": [
        "results_df = pd.DataFrame(results).T\n",
        "print(results_df)"
      ],
      "metadata": {
        "colab": {
          "base_uri": "https://localhost:8080/"
        },
        "id": "wkgnLzHWXX0y",
        "outputId": "e0a362cb-8495-435d-daa5-d8a78b01c4ed"
      },
      "execution_count": null,
      "outputs": [
        {
          "output_type": "stream",
          "name": "stdout",
          "text": [
            "                            MSE        R2\n",
            "Linear Regression  3.024719e-27  1.000000\n",
            "Decision Tree      1.135074e-05  0.999994\n",
            "Random Forest      4.654257e-05  0.999974\n"
          ]
        }
      ]
    },
    {
      "cell_type": "markdown",
      "source": [
        "# Visualize the results"
      ],
      "metadata": {
        "id": "9VkRyMrAXZcO"
      }
    },
    {
      "cell_type": "code",
      "source": [
        "plt.figure(figsize=(10, 6))\n",
        "sns.barplot(x=results_df.index, y=results_df['R2'])\n",
        "plt.title('Model Performance Comparison')\n",
        "plt.ylabel('R2 Score')\n",
        "plt.show()"
      ],
      "metadata": {
        "colab": {
          "base_uri": "https://localhost:8080/",
          "height": 564
        },
        "id": "cdC8GI4pXbd5",
        "outputId": "c0a002a6-b9b8-42e0-bd39-a37452f2dbfe"
      },
      "execution_count": null,
      "outputs": [
        {
          "output_type": "display_data",
          "data": {
            "text/plain": [
              "<Figure size 1000x600 with 1 Axes>"
            ],
            "image/png": "[encoded data removed]"
          },
          "metadata": {}
        }
      ]
    }
  ]
}