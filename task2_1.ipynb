{
  "nbformat": 4,
  "nbformat_minor": 0,
  "metadata": {
    "colab": {
      "provenance": [],
      "authorship_tag": "ABX9TyPP9QPMNfhspainsEA+L77i",
      "include_colab_link": true
    },
    "kernelspec": {
      "name": "python3",
      "display_name": "Python 3"
    },
    "language_info": {
      "name": "python"
    }
  },
  "cells": [
    {
      "cell_type": "markdown",
      "metadata": {
        "id": "view-in-github",
        "colab_type": "text"
      },
      "source": [
        "<a href=\"https://colab.research.google.com/github/gauravvojha/Cognifyz_DataScience_tasks/blob/main/task2_1.ipynb\" target=\"_parent\"><img src=\"https://colab.research.google.com/assets/colab-badge.svg\" alt=\"Open In Colab\"/></a>"
      ]
    },
    {
      "cell_type": "code",
      "execution_count": 1,
      "metadata": {
        "id": "aw4Fosjo_081"
      },
      "outputs": [],
      "source": [
        "import pandas as pd\n",
        "import matplotlib.pyplot as plt\n",
        "import seaborn as sns\n"
      ]
    },
    {
      "cell_type": "markdown",
      "source": [
        "# Load the dataset"
      ],
      "metadata": {
        "id": "KvZTyvClA9XK"
      }
    },
    {
      "cell_type": "code",
      "source": [
        "df = pd.read_csv('/content/restaurant_data.csv')"
      ],
      "metadata": {
        "id": "xzG4iwHGA_Ow"
      },
      "execution_count": 2,
      "outputs": []
    },
    {
      "cell_type": "markdown",
      "source": [
        "#Data Cleaning"
      ],
      "metadata": {
        "id": "4ASfT3QPBYdw"
      }
    },
    {
      "cell_type": "code",
      "source": [
        "print(df.head())"
      ],
      "metadata": {
        "colab": {
          "base_uri": "https://localhost:8080/"
        },
        "id": "LrKbTanXBcah",
        "outputId": "e8501307-ae83-44f9-8f6f-7e6b521cc2d3"
      },
      "execution_count": 3,
      "outputs": [
        {
          "output_type": "stream",
          "name": "stdout",
          "text": [
            "   Restaurant ID         Restaurant Name  Country Code              City  \\\n",
            "0        6317637        Le Petit Souffle           162       Makati City   \n",
            "1        6304287        Izakaya Kikufuji           162       Makati City   \n",
            "2        6300002  Heat - Edsa Shangri-La           162  Mandaluyong City   \n",
            "3        6318506                    Ooma           162  Mandaluyong City   \n",
            "4        6314302             Sambo Kojin           162  Mandaluyong City   \n",
            "\n",
            "                                             Address  \\\n",
            "0  Third Floor, Century City Mall, Kalayaan Avenu...   \n",
            "1  Little Tokyo, 2277 Chino Roces Avenue, Legaspi...   \n",
            "2  Edsa Shangri-La, 1 Garden Way, Ortigas, Mandal...   \n",
            "3  Third Floor, Mega Fashion Hall, SM Megamall, O...   \n",
            "4  Third Floor, Mega Atrium, SM Megamall, Ortigas...   \n",
            "\n",
            "                                     Locality  \\\n",
            "0   Century City Mall, Poblacion, Makati City   \n",
            "1  Little Tokyo, Legaspi Village, Makati City   \n",
            "2  Edsa Shangri-La, Ortigas, Mandaluyong City   \n",
            "3      SM Megamall, Ortigas, Mandaluyong City   \n",
            "4      SM Megamall, Ortigas, Mandaluyong City   \n",
            "\n",
            "                                    Locality Verbose   Longitude   Latitude  \\\n",
            "0  Century City Mall, Poblacion, Makati City, Mak...  121.027535  14.565443   \n",
            "1  Little Tokyo, Legaspi Village, Makati City, Ma...  121.014101  14.553708   \n",
            "2  Edsa Shangri-La, Ortigas, Mandaluyong City, Ma...  121.056831  14.581404   \n",
            "3  SM Megamall, Ortigas, Mandaluyong City, Mandal...  121.056475  14.585318   \n",
            "4  SM Megamall, Ortigas, Mandaluyong City, Mandal...  121.057508  14.584450   \n",
            "\n",
            "                           Cuisines  ...          Currency Has Table booking  \\\n",
            "0        French, Japanese, Desserts  ...  Botswana Pula(P)               Yes   \n",
            "1                          Japanese  ...  Botswana Pula(P)               Yes   \n",
            "2  Seafood, Asian, Filipino, Indian  ...  Botswana Pula(P)               Yes   \n",
            "3                   Japanese, Sushi  ...  Botswana Pula(P)                No   \n",
            "4                  Japanese, Korean  ...  Botswana Pula(P)               Yes   \n",
            "\n",
            "  Has Online delivery Is delivering now Switch to order menu Price range  \\\n",
            "0                  No                No                   No         3.0   \n",
            "1                  No                No                   No         3.0   \n",
            "2                  No                No                   No         4.0   \n",
            "3                  No                No                   No         4.0   \n",
            "4                  No                No                   No         4.0   \n",
            "\n",
            "   Aggregate rating  Rating color Rating text  Votes  \n",
            "0               4.8    Dark Green   Excellent  314.0  \n",
            "1               4.5    Dark Green   Excellent  591.0  \n",
            "2               4.4         Green   Very Good  270.0  \n",
            "3               4.9    Dark Green   Excellent  365.0  \n",
            "4               4.8    Dark Green   Excellent  229.0  \n",
            "\n",
            "[5 rows x 21 columns]\n"
          ]
        }
      ]
    },
    {
      "cell_type": "markdown",
      "source": [
        "#Table Booking and Online Delivery"
      ],
      "metadata": {
        "id": "lyuCwWE6BgRZ"
      }
    },
    {
      "cell_type": "code",
      "source": [
        "table_booking_percentage = df['Has Table booking'].value_counts(normalize=True) * 100\n",
        "print(\"Percentage of restaurants offering table booking:\")\n",
        "print(table_booking_percentage)"
      ],
      "metadata": {
        "colab": {
          "base_uri": "https://localhost:8080/"
        },
        "id": "FUCqYFZYBmxR",
        "outputId": "f8ff80ac-f325-4fee-cd9d-644c8d744915"
      },
      "execution_count": 4,
      "outputs": [
        {
          "output_type": "stream",
          "name": "stdout",
          "text": [
            "Percentage of restaurants offering table booking:\n",
            "Has Table booking\n",
            "No     85.827664\n",
            "Yes    14.172336\n",
            "Name: proportion, dtype: float64\n"
          ]
        }
      ]
    },
    {
      "cell_type": "markdown",
      "source": [
        "# Calculate the percentage of restaurants that offer online delivery"
      ],
      "metadata": {
        "id": "fyHrGh9qB3ww"
      }
    },
    {
      "cell_type": "code",
      "source": [
        "online_delivery_percentage = df['Has Online delivery'].value_counts(normalize=True) * 100\n",
        "print(\"Percentage of restaurants offering online delivery:\")\n",
        "print(online_delivery_percentage)"
      ],
      "metadata": {
        "colab": {
          "base_uri": "https://localhost:8080/"
        },
        "id": "eZ2L64dRB5eY",
        "outputId": "35947d0b-d85e-449d-becf-d0632d4413ef"
      },
      "execution_count": 5,
      "outputs": [
        {
          "output_type": "stream",
          "name": "stdout",
          "text": [
            "Percentage of restaurants offering online delivery:\n",
            "Has Online delivery\n",
            "No     73.628118\n",
            "Yes    26.371882\n",
            "Name: proportion, dtype: float64\n"
          ]
        }
      ]
    },
    {
      "cell_type": "markdown",
      "source": [
        "#Compare Average Ratings"
      ],
      "metadata": {
        "id": "62HxcxyCCAFa"
      }
    },
    {
      "cell_type": "code",
      "source": [
        "avg_rating_with_booking = df[df['Has Table booking'] == 'Yes']['Aggregate rating'].mean()\n",
        "avg_rating_without_booking = df[df['Has Table booking'] == 'No']['Aggregate rating'].mean()\n",
        "print(f\"Average rating with table booking: {avg_rating_with_booking}\")\n",
        "print(f\"Average rating without table booking: {avg_rating_without_booking}\")\n"
      ],
      "metadata": {
        "colab": {
          "base_uri": "https://localhost:8080/"
        },
        "id": "Wh-oPDexCCpJ",
        "outputId": "48b69306-80e3-4458-b007-6e2651f6be65"
      },
      "execution_count": 7,
      "outputs": [
        {
          "output_type": "stream",
          "name": "stdout",
          "text": [
            "Average rating with table booking: 3.5512\n",
            "Average rating without table booking: 2.8849405548216644\n"
          ]
        }
      ]
    },
    {
      "cell_type": "markdown",
      "source": [
        "#Analyze Online Delivery Availability"
      ],
      "metadata": {
        "id": "zjJEHDDHCTpJ"
      }
    },
    {
      "cell_type": "code",
      "source": [
        "online_delivery_by_price = df.groupby('Price range')['Has Online delivery'].value_counts(normalize=True).unstack() * 100\n",
        "print(\"Online delivery availability by price range:\")\n",
        "print(online_delivery_by_price)"
      ],
      "metadata": {
        "colab": {
          "base_uri": "https://localhost:8080/"
        },
        "id": "V9FSFg5wCWBR",
        "outputId": "a114be94-0d56-4180-c3d0-6e39f94a4491"
      },
      "execution_count": 8,
      "outputs": [
        {
          "output_type": "stream",
          "name": "stdout",
          "text": [
            "Online delivery availability by price range:\n",
            "Has Online delivery         No        Yes\n",
            "Price range                              \n",
            "1.0                  82.558140  17.441860\n",
            "2.0                  61.671088  38.328912\n",
            "3.0                  71.379310  28.620690\n",
            "4.0                  88.461538  11.538462\n"
          ]
        }
      ]
    },
    {
      "cell_type": "markdown",
      "source": [
        "# Visualization"
      ],
      "metadata": {
        "id": "1onUHFq-Cfyw"
      }
    },
    {
      "cell_type": "code",
      "source": [
        "online_delivery_by_price.plot(kind='bar', stacked=True)\n",
        "plt.title('Online Delivery Availability by Price Range')\n",
        "plt.xlabel('Price Range')\n",
        "plt.ylabel('Percentage')\n",
        "plt.legend(title='Online Delivery', loc='upper right')\n",
        "plt.show()"
      ],
      "metadata": {
        "colab": {
          "base_uri": "https://localhost:8080/",
          "height": 480
        },
        "id": "l2H6uoTMChYh",
        "outputId": "592b7bc8-1ce9-44ab-c0d3-4af8e6bf9c8c"
      },
      "execution_count": 9,
      "outputs": [
        {
          "output_type": "display_data",
          "data": {
            "text/plain": [
              "<Figure size 640x480 with 1 Axes>"
            ],
            "image/png": "[encoded data removed]"
          },
          "metadata": {}
        }
      ]
    },
    {
      "cell_type": "markdown",
      "source": [
        "# Plot the comparison of average ratings"
      ],
      "metadata": {
        "id": "NsUlt2LzCk95"
      }
    },
    {
      "cell_type": "code",
      "source": [
        "vg_ratings = pd.DataFrame({\n",
        "    'Table Booking': ['Yes', 'No'],\n",
        "    'Average Rating': [avg_rating_with_booking, avg_rating_without_booking]\n",
        "})"
      ],
      "metadata": {
        "id": "5uAHSO7kCnAI"
      },
      "execution_count": 10,
      "outputs": []
    },
    {
      "cell_type": "code",
      "source": [
        "sns.barplot(x='Has Table booking', y='Aggregate rating', data=df)\n",
        "plt.title('Average Ratings: With vs Without Table Booking')\n",
        "plt.show()"
      ],
      "metadata": {
        "colab": {
          "base_uri": "https://localhost:8080/",
          "height": 472
        },
        "id": "215qDEmACpqB",
        "outputId": "e4e6593b-3557-4db0-efdf-23e74f15994b"
      },
      "execution_count": 16,
      "outputs": [
        {
          "output_type": "display_data",
          "data": {
            "text/plain": [
              "<Figure size 640x480 with 1 Axes>"
            ],
            "image/png": "[encoded data removed]"
          },
          "metadata": {}
        }
      ]
    }
  ]
}